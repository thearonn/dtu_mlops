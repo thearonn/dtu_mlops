{
 "cells": [
  {
   "cell_type": "markdown",
   "metadata": {},
   "source": [
    "# Classifying Fashion-MNIST\n",
    "\n",
    "Now it's your turn to build and train a neural network. You'll be using the [Fashion-MNIST dataset](https://github.com/zalandoresearch/fashion-mnist), a drop-in replacement for the MNIST dataset. MNIST is actually quite trivial with neural networks where you can easily achieve better than 97% accuracy. Fashion-MNIST is a set of 28x28 greyscale images of clothes. It's more complex than MNIST, so it's a better representation of the actual performance of your network, and a better representation of datasets you'll use in the real world.\n",
    "\n",
    "<img src='assets/fashion-mnist-sprite.png' width=500px>\n",
    "\n",
    "In this notebook, you'll build your own neural network. For the most part, you could just copy and paste the code from Part 3, but you wouldn't be learning. It's important for you to write the code yourself and get it to work. Feel free to consult the previous notebooks though as you work through this.\n",
    "\n",
    "First off, let's load the dataset through torchvision."
   ]
  },
  {
   "cell_type": "code",
   "execution_count": 1,
   "metadata": {},
   "outputs": [
    {
     "output_type": "stream",
     "name": "stderr",
     "text": [
      "  0%|          | 16384/26421880 [00:00<02:47, 157952.21it/s]Downloading http://fashion-mnist.s3-website.eu-central-1.amazonaws.com/train-images-idx3-ubyte.gz to C:\\Users\\thear/.pytorch/F_MNIST_data/FashionMNIST\\raw\\train-images-idx3-ubyte.gz\n",
      "26427392it [00:05, 4634952.21it/s]                              \n",
      "Extracting C:\\Users\\thear/.pytorch/F_MNIST_data/FashionMNIST\\raw\\train-images-idx3-ubyte.gz to C:\\Users\\thear/.pytorch/F_MNIST_data/FashionMNIST\\raw\n",
      "32768it [00:00, 335261.93it/s]\n",
      "0it [00:00, ?it/s]Downloading http://fashion-mnist.s3-website.eu-central-1.amazonaws.com/train-labels-idx1-ubyte.gz to C:\\Users\\thear/.pytorch/F_MNIST_data/FashionMNIST\\raw\\train-labels-idx1-ubyte.gz\n",
      "Extracting C:\\Users\\thear/.pytorch/F_MNIST_data/FashionMNIST\\raw\\train-labels-idx1-ubyte.gz to C:\\Users\\thear/.pytorch/F_MNIST_data/FashionMNIST\\raw\n",
      "Downloading http://fashion-mnist.s3-website.eu-central-1.amazonaws.com/t10k-images-idx3-ubyte.gz to C:\\Users\\thear/.pytorch/F_MNIST_data/FashionMNIST\\raw\\t10k-images-idx3-ubyte.gz\n",
      "4423680it [00:01, 4289671.74it/s]                             \n",
      "0it [00:00, ?it/s]Extracting C:\\Users\\thear/.pytorch/F_MNIST_data/FashionMNIST\\raw\\t10k-images-idx3-ubyte.gz to C:\\Users\\thear/.pytorch/F_MNIST_data/FashionMNIST\\raw\n",
      "Downloading http://fashion-mnist.s3-website.eu-central-1.amazonaws.com/t10k-labels-idx1-ubyte.gz to C:\\Users\\thear/.pytorch/F_MNIST_data/FashionMNIST\\raw\\t10k-labels-idx1-ubyte.gz\n",
      "8192it [00:00, 114079.57it/s]\n",
      "C:\\Users\\thear\\Anaconda3\\lib\\site-packages\\torchvision\\datasets\\mnist.py:480: UserWarning: The given NumPy array is not writeable, and PyTorch does not support non-writeable tensors. This means you can write to the underlying (supposedly non-writeable) NumPy array using the tensor. You may want to copy the array to protect its data or make it writeable before converting it to a tensor. This type of warning will be suppressed for the rest of this program. (Triggered internally at  ..\\torch\\csrc\\utils\\tensor_numpy.cpp:141.)\n",
      "  return torch.from_numpy(parsed.astype(m[2], copy=False)).view(*s)\n",
      "Extracting C:\\Users\\thear/.pytorch/F_MNIST_data/FashionMNIST\\raw\\t10k-labels-idx1-ubyte.gz to C:\\Users\\thear/.pytorch/F_MNIST_data/FashionMNIST\\raw\n",
      "Processing...\n",
      "Done!\n"
     ]
    }
   ],
   "source": [
    "import torch\n",
    "from torchvision import datasets, transforms\n",
    "import helper\n",
    "\n",
    "# Define a transform to normalize the data\n",
    "transform = transforms.Compose([transforms.ToTensor(),\n",
    "                                transforms.Normalize((0.5,), (0.5,))])\n",
    "# Download and load the training data\n",
    "trainset = datasets.FashionMNIST('~/.pytorch/F_MNIST_data/', download=True, train=True, transform=transform)\n",
    "trainloader = torch.utils.data.DataLoader(trainset, batch_size=64, shuffle=True)\n",
    "\n",
    "# Download and load the test data\n",
    "testset = datasets.FashionMNIST('~/.pytorch/F_MNIST_data/', download=True, train=False, transform=transform)\n",
    "testloader = torch.utils.data.DataLoader(testset, batch_size=64, shuffle=True)"
   ]
  },
  {
   "cell_type": "markdown",
   "metadata": {},
   "source": [
    "Here we can see one of the images."
   ]
  },
  {
   "cell_type": "code",
   "execution_count": 2,
   "metadata": {},
   "outputs": [
    {
     "output_type": "display_data",
     "data": {
      "text/plain": "<Figure size 432x288 with 1 Axes>",
      "image/svg+xml": "<?xml version=\"1.0\" encoding=\"utf-8\" standalone=\"no\"?>\r\n<!DOCTYPE svg PUBLIC \"-//W3C//DTD SVG 1.1//EN\"\r\n  \"http://www.w3.org/Graphics/SVG/1.1/DTD/svg11.dtd\">\r\n<!-- Created with matplotlib (https://matplotlib.org/) -->\r\n<svg height=\"231.84pt\" version=\"1.1\" viewBox=\"0 0 231.84 231.84\" width=\"231.84pt\" xmlns=\"http://www.w3.org/2000/svg\" xmlns:xlink=\"http://www.w3.org/1999/xlink\">\r\n <defs>\r\n  <style type=\"text/css\">\r\n*{stroke-linecap:butt;stroke-linejoin:round;}\r\n  </style>\r\n </defs>\r\n <g id=\"figure_1\">\r\n  <g id=\"patch_1\">\r\n   <path d=\"M 0 231.84 \r\nL 231.84 231.84 \r\nL 231.84 0 \r\nL 0 0 \r\nz\r\n\" style=\"fill:none;\"/>\r\n  </g>\r\n  <g id=\"axes_1\">\r\n   <g id=\"patch_2\">\r\n    <path d=\"M 7.2 224.64 \r\nL 224.64 224.64 \r\nL 224.64 7.2 \r\nL 7.2 7.2 \r\nz\r\n\" style=\"fill:#ffffff;\"/>\r\n   </g>\r\n   <g clip-path=\"url(#pc7b1925ee0)\">\r\n    <image height=\"218\" id=\"imagea7495b831d\" transform=\"scale(1 -1)translate(0 -218)\" width=\"218\" x=\"7.2\" xlink:href=\"data:image/png;base64,\r\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\" y=\"-6.64\"/>\r\n   </g>\r\n   <g id=\"matplotlib.axis_1\">\r\n    <g id=\"xtick_1\">\r\n     <g id=\"line2d_1\"/>\r\n    </g>\r\n    <g id=\"xtick_2\">\r\n     <g id=\"line2d_2\"/>\r\n    </g>\r\n    <g id=\"xtick_3\">\r\n     <g id=\"line2d_3\"/>\r\n    </g>\r\n    <g id=\"xtick_4\">\r\n     <g id=\"line2d_4\"/>\r\n    </g>\r\n    <g id=\"xtick_5\">\r\n     <g id=\"line2d_5\"/>\r\n    </g>\r\n    <g id=\"xtick_6\">\r\n     <g id=\"line2d_6\"/>\r\n    </g>\r\n   </g>\r\n   <g id=\"matplotlib.axis_2\">\r\n    <g id=\"ytick_1\">\r\n     <g id=\"line2d_7\"/>\r\n    </g>\r\n    <g id=\"ytick_2\">\r\n     <g id=\"line2d_8\"/>\r\n    </g>\r\n    <g id=\"ytick_3\">\r\n     <g id=\"line2d_9\"/>\r\n    </g>\r\n    <g id=\"ytick_4\">\r\n     <g id=\"line2d_10\"/>\r\n    </g>\r\n    <g id=\"ytick_5\">\r\n     <g id=\"line2d_11\"/>\r\n    </g>\r\n    <g id=\"ytick_6\">\r\n     <g id=\"line2d_12\"/>\r\n    </g>\r\n   </g>\r\n  </g>\r\n </g>\r\n <defs>\r\n  <clipPath id=\"pc7b1925ee0\">\r\n   <rect height=\"217.44\" width=\"217.44\" x=\"7.2\" y=\"7.2\"/>\r\n  </clipPath>\r\n </defs>\r\n</svg>\r\n",
      "image/png": "[encoded data removed]"
     },
     "metadata": {
      "needs_background": "light"
     }
    }
   ],
   "source": [
    "image, label = next(iter(trainloader))\n",
    "helper.imshow(image[0,:]);"
   ]
  },
  {
   "cell_type": "markdown",
   "metadata": {},
   "source": [
    "## Building the network\n",
    "\n",
    "Here you should define your network. As with MNIST, each image is 28x28 which is a total of 784 pixels, and there are 10 classes. You should include at least one hidden layer. We suggest you use ReLU activations for the layers and to return the logits or log-softmax from the forward pass. It's up to you how many layers you add and the size of those layers."
   ]
  },
  {
   "cell_type": "code",
   "execution_count": 5,
   "metadata": {},
   "outputs": [],
   "source": [
    "from torch import nn\n",
    "model = nn.Sequential(nn.Linear(784, 256),\n",
    "                      nn.ReLU(),\n",
    "                      nn.Linear(256, 128),\n",
    "                      nn.ReLU(),\n",
    "                      nn.Linear(128, 64),\n",
    "                      nn.ReLU(),\n",
    "                      nn.Linear(64, 10),\n",
    "                      nn.LogSoftmax(dim=1))"
   ]
  },
  {
   "cell_type": "markdown",
   "metadata": {},
   "source": [
    "# Train the network\n",
    "\n",
    "Now you should create your network and train it. First you'll want to define [the criterion](http://pytorch.org/docs/master/nn.html#loss-functions) ( something like `nn.CrossEntropyLoss`) and [the optimizer](http://pytorch.org/docs/master/optim.html) (typically `optim.SGD` or `optim.Adam`).\n",
    "\n",
    "Then write the training code. Remember the training pass is a fairly straightforward process:\n",
    "\n",
    "* Make a forward pass through the network to get the logits \n",
    "* Use the logits to calculate the loss\n",
    "* Perform a backward pass through the network with `loss.backward()` to calculate the gradients\n",
    "* Take a step with the optimizer to update the weights\n",
    "\n",
    "By adjusting the hyperparameters (hidden units, learning rate, etc), you should be able to get the training loss below 0.4."
   ]
  },
  {
   "cell_type": "code",
   "execution_count": 11,
   "metadata": {},
   "outputs": [],
   "source": [
    "from torch import optim\n",
    "\n",
    "criterion = nn.NLLLoss()\n",
    "optimizer = optim.Adam(model.parameters(), lr=0.003)\n"
   ]
  },
  {
   "cell_type": "code",
   "execution_count": 12,
   "metadata": {},
   "outputs": [
    {
     "output_type": "stream",
     "name": "stdout",
     "text": [
      "Training loss: 0.49748544283767243\n",
      "Training loss: 0.3826263433675776\n",
      "Training loss: 0.3558180384687396\n",
      "Training loss: 0.33239771508331745\n",
      "Training loss: 0.313396352027525\n"
     ]
    }
   ],
   "source": [
    "epochs = 5\n",
    "for e in range(epochs):\n",
    "    running_loss = 0\n",
    "    for images, labels in trainloader:\n",
    "        # Flatten MNIST images into a 784 long vector\n",
    "        images = images.view(images.shape[0], -1)\n",
    "        optimizer.zero_grad()\n",
    "        output = model(images)\n",
    "        loss = criterion(output, labels)\n",
    "        loss.backward()\n",
    "        optimizer.step()\n",
    "        running_loss += loss.item()\n",
    "    else:\n",
    "        print(f\"Training loss: {running_loss/len(trainloader)}\")\n"
   ]
  },
  {
   "cell_type": "code",
   "execution_count": 14,
   "metadata": {},
   "outputs": [
    {
     "output_type": "display_data",
     "data": {
      "text/plain": "<Figure size 432x648 with 2 Axes>",
      "image/png": "[encoded data removed]"
     },
     "metadata": {
      "image/png": {
       "width": 424,
       "height": 216
      },
      "needs_background": "light"
     }
    }
   ],
   "source": [
    "%matplotlib inline\n",
    "%config InlineBackend.figure_format = 'retina'\n",
    "\n",
    "import helper\n",
    "\n",
    "# Test out your network!\n",
    "\n",
    "dataiter = iter(testloader)\n",
    "images, labels = dataiter.next()\n",
    "img = images[0]\n",
    "# Convert 2D image to 1D vector\n",
    "img = img.resize_(1, 784)\n",
    "\n",
    "# TODO: Calculate the class probabilities (softmax) for img\n",
    "with torch.no_grad():\n",
    "    logps = model(img)\n",
    "ps = torch.exp(logps)\n",
    "\n",
    "# Plot the image and probabilities\n",
    "helper.view_classify(img.resize_(1, 28, 28), ps, version='Fashion')"
   ]
  },
  {
   "cell_type": "code",
   "execution_count": null,
   "metadata": {},
   "outputs": [],
   "source": []
  }
 ],
 "metadata": {
  "kernelspec": {
   "name": "python383jvsc74a57bd03a62a6d78da73235a31d89a7a665fcca0dfadba5f32a4be87e2fd66a7debec37",
   "display_name": "Python 3.8.3 64-bit ('thear': virtualenv)"
  },
  "language_info": {
   "codemirror_mode": {
    "name": "ipython",
    "version": 3
   },
   "file_extension": ".py",
   "mimetype": "text/x-python",
   "name": "python",
   "nbconvert_exporter": "python",
   "pygments_lexer": "ipython3",
   "version": "3.8.3"
  }
 },
 "nbformat": 4,
 "nbformat_minor": 2
}