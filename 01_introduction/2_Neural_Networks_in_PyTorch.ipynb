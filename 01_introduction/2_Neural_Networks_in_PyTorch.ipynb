{
 "cells": [
  {
   "cell_type": "markdown",
   "metadata": {},
   "source": [
    "# Neural networks with PyTorch\n",
    "\n",
    "Deep learning networks tend to be massive with dozens or hundreds of layers, that's where the term \"deep\" comes from. You can build one of these deep networks using only weight matrices as we did in the previous notebook, but in general it's very cumbersome and difficult to implement. PyTorch has a nice module `nn` that provides a nice way to efficiently build large neural networks."
   ]
  },
  {
   "cell_type": "code",
   "execution_count": 2,
   "metadata": {
    "collapsed": true
   },
   "outputs": [],
   "source": [
    "# Import necessary packages\n",
    "\n",
    "%matplotlib inline\n",
    "%config InlineBackend.figure_format = 'retina'\n",
    "\n",
    "import numpy as np\n",
    "import torch\n",
    "\n",
    "import helper\n",
    "\n",
    "import matplotlib.pyplot as plt"
   ]
  },
  {
   "cell_type": "markdown",
   "metadata": {},
   "source": [
    "\n",
    "Now we're going to build a larger network that can solve a (formerly) difficult problem, identifying text in an image. Here we'll use the MNIST dataset which consists of greyscale handwritten digits. Each image is 28x28 pixels, you can see a sample below\n",
    "\n",
    "<img src='assets/mnist.png'>\n",
    "\n",
    "Our goal is to build a neural network that can take one of these images and predict the digit in the image.\n",
    "\n",
    "First up, we need to get our dataset. This is provided through the `torchvision` package. The code below will download the MNIST dataset, then create training and test datasets for us. Don't worry too much about the details here, you'll learn more about this later."
   ]
  },
  {
   "cell_type": "code",
   "execution_count": 4,
   "metadata": {
    "collapsed": true,
    "tags": [
     "outputPrepend"
    ]
   },
   "outputs": [
    {
     "output_type": "stream",
     "name": "stderr",
     "text": [
      "█▍ | 8404992/9912422 [04:15<00:46, 32734.94it/s]\u001b[A\n",
      " 85%|████████▍ | 8413184/9912422 [04:16<00:55, 27132.73it/s]\u001b[A\n",
      " 85%|████████▌ | 8429568/9912422 [04:16<00:52, 28421.82it/s]\u001b[A\n",
      " 85%|████████▌ | 8445952/9912422 [04:16<00:45, 32302.54it/s]\u001b[A\n",
      " 85%|████████▌ | 8454144/9912422 [04:17<00:51, 28374.20it/s]\u001b[A\n",
      " 85%|████████▌ | 8462336/9912422 [04:17<00:43, 33231.48it/s]\u001b[A\n",
      " 85%|████████▌ | 8470528/9912422 [04:17<00:49, 28951.99it/s]\u001b[A\n",
      " 86%|████████▌ | 8478720/9912422 [04:17<00:41, 34426.66it/s]\u001b[A\n",
      " 86%|████████▌ | 8486912/9912422 [04:18<00:48, 29347.81it/s]\u001b[A\n",
      " 86%|████████▌ | 8495104/9912422 [04:18<00:41, 34310.37it/s]\u001b[A\n",
      " 86%|████████▌ | 8503296/9912422 [04:18<00:47, 29618.56it/s]\u001b[A\n",
      " 86%|████████▌ | 8511488/9912422 [04:18<00:40, 34274.81it/s]\u001b[A\n",
      " 86%|████████▌ | 8519680/9912422 [04:19<00:47, 29621.09it/s]\u001b[A\n",
      " 86%|████████▌ | 8527872/9912422 [04:19<00:40, 34551.10it/s]\u001b[A\n",
      " 86%|████████▌ | 8536064/9912422 [04:19<00:46, 29735.25it/s]\u001b[A\n",
      " 86%|████████▌ | 8544256/9912422 [04:19<00:39, 34341.97it/s]\u001b[A\n",
      " 86%|████████▋ | 8552448/9912422 [04:20<00:45, 30137.40it/s]\u001b[A\n",
      " 86%|████████▋ | 8560640/9912422 [04:20<00:39, 34206.35it/s]\u001b[A\n",
      " 86%|████████▋ | 8568832/9912422 [04:20<00:45, 29756.79it/s]\u001b[A\n",
      " 87%|████████▋ | 8577024/9912422 [04:21<00:38, 34618.43it/s]\u001b[A\n",
      " 87%|████████▋ | 8585216/9912422 [04:21<00:49, 26778.25it/s]\u001b[A\n",
      " 87%|████████▋ | 8601600/9912422 [04:21<00:44, 29691.85it/s]\u001b[A\n",
      " 87%|████████▋ | 8609792/9912422 [04:22<00:37, 34478.79it/s]\u001b[A\n",
      " 87%|████████▋ | 8617984/9912422 [04:22<00:43, 29838.45it/s]\u001b[A\n",
      " 87%|████████▋ | 8626176/9912422 [04:22<00:37, 34148.70it/s]\u001b[A\n",
      " 87%|████████▋ | 8634368/9912422 [04:23<00:47, 26855.12it/s]\u001b[A\n",
      " 87%|████████▋ | 8650752/9912422 [04:23<00:44, 28215.18it/s]\u001b[A\n",
      " 87%|████████▋ | 8667136/9912422 [04:24<00:42, 29255.12it/s]\u001b[A\n",
      " 88%|████████▊ | 8683520/9912422 [04:24<00:40, 30028.97it/s]\u001b[A\n",
      " 88%|████████▊ | 8699904/9912422 [04:25<00:39, 30599.93it/s]\u001b[A\n",
      " 88%|████████▊ | 8716288/9912422 [04:25<00:38, 30995.59it/s]\u001b[A\n",
      " 88%|████████▊ | 8732672/9912422 [04:25<00:33, 35398.47it/s]\u001b[A\n",
      " 88%|████████▊ | 8740864/9912422 [04:26<00:40, 28891.97it/s]\u001b[A\n",
      " 88%|████████▊ | 8749056/9912422 [04:26<00:32, 35504.55it/s]\u001b[A\n",
      " 88%|████████▊ | 8757248/9912422 [04:26<00:39, 28924.92it/s]\u001b[A\n",
      " 88%|████████▊ | 8765440/9912422 [04:26<00:32, 35819.94it/s]\u001b[A\n",
      " 89%|████████▊ | 8773632/9912422 [04:27<00:39, 28908.86it/s]\u001b[A\n",
      " 89%|████████▊ | 8781824/9912422 [04:27<00:31, 35516.82it/s]\u001b[A\n",
      " 89%|████████▊ | 8790016/9912422 [04:27<00:38, 28966.98it/s]\u001b[A\n",
      " 89%|████████▉ | 8798208/9912422 [04:27<00:31, 35458.69it/s]\u001b[A\n",
      " 89%|████████▉ | 8806400/9912422 [04:28<00:38, 29027.41it/s]\u001b[A\n",
      " 89%|████████▉ | 8814592/9912422 [04:28<00:30, 35553.27it/s]\u001b[A\n",
      " 89%|████████▉ | 8822784/9912422 [04:28<00:31, 34280.53it/s]\u001b[A\n",
      " 89%|████████▉ | 8830976/9912422 [04:28<00:31, 33907.98it/s]\u001b[A\n",
      " 89%|████████▉ | 8839168/9912422 [04:29<00:38, 28088.26it/s]\u001b[A\n",
      " 89%|████████▉ | 8847360/9912422 [04:29<00:30, 34704.21it/s]\u001b[A\n",
      " 89%|████████▉ | 8855552/9912422 [04:29<00:36, 28586.91it/s]\u001b[A\n",
      " 89%|████████▉ | 8863744/9912422 [04:29<00:30, 34622.54it/s]\u001b[A\n",
      " 90%|████████▉ | 8871936/9912422 [04:30<00:36, 28441.82it/s]\u001b[A\n",
      " 90%|████████▉ | 8880128/9912422 [04:30<00:29, 35272.87it/s]\u001b[A\n",
      " 90%|████████▉ | 8888320/9912422 [04:30<00:29, 34523.63it/s]\u001b[A\n",
      " 90%|████████▉ | 8896512/9912422 [04:31<00:37, 26947.23it/s]\u001b[A\n",
      " 90%|████████▉ | 8912896/9912422 [04:31<00:35, 28471.66it/s]\u001b[A\n",
      " 90%|█████████ | 8929280/9912422 [04:32<00:30, 32756.42it/s]\u001b[A\n",
      " 90%|█████████ | 8937472/9912422 [04:32<00:30, 32373.50it/s]\u001b[A\n",
      " 90%|█████████ | 8945664/9912422 [04:32<00:36, 26371.18it/s]\u001b[A\n",
      " 90%|█████████ | 8962048/9912422 [04:33<00:34, 27640.34it/s]\u001b[A\n",
      " 91%|█████████ | 8978432/9912422 [04:33<00:32, 28994.09it/s]\u001b[A\n",
      " 91%|█████████ | 8994816/9912422 [04:34<00:30, 29868.04it/s]\u001b[A\n",
      " 91%|█████████ | 9011200/9912422 [04:34<00:29, 30212.91it/s]\u001b[A\n",
      " 91%|█████████ | 9027584/9912422 [04:35<00:28, 31049.83it/s]\u001b[A\n",
      " 91%|█████████ | 9043968/9912422 [04:35<00:27, 31293.08it/s]\u001b[A\n",
      " 91%|█████████▏| 9060352/9912422 [04:36<00:27, 31252.33it/s]\u001b[A\n",
      " 92%|█████████▏| 9076736/9912422 [04:36<00:26, 31731.09it/s]\u001b[A\n",
      " 92%|█████████▏| 9093120/9912422 [04:37<00:25, 31800.50it/s]\u001b[A\n",
      " 92%|█████████▏| 9109504/9912422 [04:37<00:25, 31862.65it/s]\u001b[A\n",
      " 92%|█████████▏| 9125888/9912422 [04:38<00:24, 31906.58it/s]\u001b[A\n",
      " 92%|█████████▏| 9142272/9912422 [04:38<00:24, 31940.01it/s]\u001b[A\n",
      " 92%|█████████▏| 9158656/9912422 [04:39<00:23, 31953.52it/s]\u001b[A\n",
      " 93%|█████████▎| 9175040/9912422 [04:39<00:23, 31979.88it/s]\u001b[A\n",
      " 93%|█████████▎| 9183232/9912422 [04:40<00:18, 38509.00it/s]\u001b[A\n",
      " 93%|█████████▎| 9191424/9912422 [04:40<00:23, 30417.31it/s]\u001b[A\n",
      " 93%|█████████▎| 9207808/9912422 [04:40<00:22, 30876.28it/s]\u001b[A\n",
      " 93%|█████████▎| 9224192/9912422 [04:41<00:22, 31204.61it/s]\u001b[A\n",
      " 93%|█████████▎| 9240576/9912422 [04:41<00:20, 33410.19it/s]\u001b[A\n",
      " 93%|█████████▎| 9248768/9912422 [04:42<00:18, 36186.83it/s]\u001b[A\n",
      " 93%|█████████▎| 9256960/9912422 [04:42<00:23, 28444.16it/s]\u001b[A\n",
      " 94%|█████████▎| 9273344/9912422 [04:42<00:21, 29774.53it/s]\u001b[A\n",
      " 94%|█████████▎| 9281536/9912422 [04:43<00:17, 36781.43it/s]\u001b[A\n",
      " 94%|█████████▎| 9289728/9912422 [04:43<00:19, 32108.59it/s]\u001b[A\n",
      " 94%|█████████▍| 9297920/9912422 [04:43<00:17, 35105.40it/s]\u001b[A\n",
      " 94%|█████████▍| 9306112/9912422 [04:44<00:21, 27921.17it/s]\u001b[A\n",
      " 94%|█████████▍| 9322496/9912422 [04:44<00:20, 29051.99it/s]\u001b[A\n",
      " 94%|█████████▍| 9338880/9912422 [04:45<00:19, 29877.77it/s]\u001b[A\n",
      " 94%|█████████▍| 9355264/9912422 [04:45<00:18, 30484.49it/s]\u001b[A\n",
      " 95%|█████████▍| 9371648/9912422 [04:45<00:16, 32987.50it/s]\u001b[A\n",
      " 95%|█████████▍| 9379840/9912422 [04:46<00:17, 30571.82it/s]\u001b[A\n",
      " 95%|█████████▍| 9388032/9912422 [04:46<00:14, 35695.77it/s]\u001b[A\n",
      " 95%|█████████▍| 9396224/9912422 [04:46<00:17, 30037.65it/s]\u001b[A\n",
      " 95%|█████████▍| 9404416/9912422 [04:46<00:14, 34549.64it/s]\u001b[A\n",
      " 95%|█████████▍| 9412608/9912422 [04:47<00:15, 31422.19it/s]\u001b[A\n",
      " 95%|█████████▌| 9420800/9912422 [04:47<00:14, 34548.68it/s]\u001b[A\n",
      " 95%|█████████▌| 9428992/9912422 [04:47<00:14, 33495.38it/s]\u001b[A\n",
      " 95%|█████████▌| 9437184/9912422 [04:48<00:15, 30901.04it/s]\u001b[A\n",
      " 95%|█████████▌| 9445376/9912422 [04:48<00:13, 33611.28it/s]\u001b[A\n",
      " 95%|█████████▌| 9453568/9912422 [04:48<00:15, 28957.71it/s]\u001b[A\n",
      " 95%|█████████▌| 9461760/9912422 [04:48<00:12, 35571.73it/s]\u001b[A\n",
      " 96%|█████████▌| 9469952/9912422 [04:49<00:14, 30785.82it/s]\u001b[A\n",
      " 96%|█████████▌| 9478144/9912422 [04:49<00:11, 36313.90it/s]\u001b[A\n",
      " 96%|█████████▌| 9486336/9912422 [04:49<00:11, 35523.16it/s]\u001b[A\n",
      " 96%|█████████▌| 9494528/9912422 [04:49<00:13, 30920.26it/s]\u001b[A\n",
      " 96%|█████████▌| 9502720/9912422 [04:49<00:11, 36266.73it/s]\u001b[A\n",
      " 96%|█████████▌| 9510912/9912422 [04:50<00:11, 33618.43it/s]\u001b[A\n",
      " 96%|█████████▌| 9519104/9912422 [04:50<00:10, 37321.07it/s]\u001b[A\n",
      " 96%|█████████▌| 9527296/9912422 [04:50<00:10, 37119.86it/s]\u001b[A\n",
      " 96%|█████████▌| 9535488/9912422 [04:50<00:12, 29166.37it/s]\u001b[A\n",
      " 96%|█████████▋| 9551872/9912422 [04:51<00:10, 32796.24it/s]\u001b[A\n",
      " 96%|█████████▋| 9560064/9912422 [04:51<00:10, 34066.64it/s]\u001b[A\n",
      " 97%|█████████▋| 9568256/9912422 [04:51<00:10, 34094.50it/s]\u001b[A\n",
      " 97%|█████████▋| 9576448/9912422 [04:52<00:12, 27954.24it/s]\u001b[A\n",
      " 97%|█████████▋| 9592832/9912422 [04:52<00:10, 29061.71it/s]\u001b[A\n",
      " 97%|█████████▋| 9609216/9912422 [04:53<00:09, 31638.53it/s]\u001b[A\n",
      " 97%|█████████▋| 9625600/9912422 [04:53<00:08, 33786.11it/s]\u001b[A\n",
      " 97%|█████████▋| 9633792/9912422 [04:53<00:06, 40275.53it/s]\u001b[A\n",
      " 97%|█████████▋| 9641984/9912422 [04:54<00:08, 31229.24it/s]\u001b[A\n",
      " 97%|█████████▋| 9658368/9912422 [04:54<00:06, 36592.39it/s]\u001b[A\n",
      " 98%|█████████▊| 9666560/9912422 [04:54<00:06, 36155.77it/s]\u001b[A\n",
      " 98%|█████████▊| 9674752/9912422 [04:54<00:06, 36356.90it/s]\u001b[A\n",
      " 98%|█████████▊| 9682944/9912422 [04:55<00:07, 29325.37it/s]\u001b[A\n",
      " 98%|█████████▊| 9699328/9912422 [04:55<00:06, 31986.55it/s]\u001b[A\n",
      " 98%|█████████▊| 9715712/9912422 [04:56<00:06, 31926.25it/s]\u001b[A\n",
      " 98%|█████████▊| 9732096/9912422 [04:56<00:05, 33989.29it/s]\u001b[A\n",
      " 98%|█████████▊| 9748480/9912422 [04:56<00:04, 35593.69it/s]\u001b[A\n",
      " 99%|█████████▊| 9764864/9912422 [04:57<00:04, 36818.80it/s]\u001b[A\n",
      " 99%|█████████▊| 9781248/9912422 [04:57<00:03, 37703.17it/s]\u001b[A\n",
      " 99%|█████████▉| 9797632/9912422 [04:58<00:02, 38384.38it/s]\u001b[A\n",
      " 99%|█████████▉| 9814016/9912422 [04:58<00:02, 45365.62it/s]\u001b[A\n",
      " 99%|█████████▉| 9822208/9912422 [04:58<00:02, 37607.38it/s]\u001b[A\n",
      " 99%|█████████▉| 9838592/9912422 [04:59<00:01, 38312.11it/s]\u001b[A\n",
      " 99%|█████████▉| 9854976/9912422 [04:59<00:01, 46477.06it/s]\u001b[A\n",
      "100%|█████████▉| 9863168/9912422 [04:59<00:01, 36570.45it/s]\u001b[A\n",
      "100%|█████████▉| 9879552/9912422 [04:59<00:00, 42952.64it/s]\u001b[A\n",
      "100%|█████████▉| 9887744/9912422 [05:00<00:00, 32767.37it/s]\u001b[A\n",
      "100%|█████████▉| 9904128/9912422 [05:00<00:00, 40293.98it/s]\u001b[A\n",
      "100%|█████████▉| 9912320/9912422 [05:00<00:00, 34359.70it/s]\u001b[AExtracting ./.pytorch/MNIST_data/MNIST\\raw\\train-images-idx3-ubyte.gz to ./.pytorch/MNIST_data/MNIST\\raw\n",
      "\n",
      "\n",
      "0it [00:00, ?it/s]\u001b[A\u001b[ADownloading http://yann.lecun.com/exdb/mnist/train-labels-idx1-ubyte.gz to ./.pytorch/MNIST_data/MNIST\\raw\\train-labels-idx1-ubyte.gz\n",
      "\n",
      "\n",
      "  0%|          | 0/28881 [00:00<?, ?it/s]\u001b[A\u001b[A\n",
      "\n",
      "32768it [00:00, 47849.67it/s] \n",
      "\n",
      "\n",
      "0it [00:00, ?it/s]\u001b[A\u001b[AExtracting ./.pytorch/MNIST_data/MNIST\\raw\\train-labels-idx1-ubyte.gz to ./.pytorch/MNIST_data/MNIST\\raw\n",
      "Downloading http://yann.lecun.com/exdb/mnist/t10k-images-idx3-ubyte.gz to ./.pytorch/MNIST_data/MNIST\\raw\\t10k-images-idx3-ubyte.gz\n",
      "\n",
      "\n",
      "  0%|          | 0/1648877 [00:00<?, ?it/s]\u001b[A\u001b[A\n",
      "\n",
      "  1%|          | 16384/1648877 [00:00<00:20, 79072.98it/s]\u001b[A\u001b[A\n",
      "\n",
      "  1%|▏         | 24576/1648877 [00:00<00:28, 57804.62it/s]\u001b[A\u001b[A\n",
      "\n",
      "  2%|▏         | 32768/1648877 [00:01<00:30, 53077.43it/s]\u001b[A\u001b[A\n",
      "\n",
      "  2%|▏         | 40960/1648877 [00:01<00:33, 48124.46it/s]\u001b[A\u001b[A\n",
      "\n",
      "  3%|▎         | 49152/1648877 [00:01<00:34, 45910.40it/s]\u001b[A\u001b[A\n",
      "\n",
      "  3%|▎         | 57344/1648877 [00:01<00:36, 43660.79it/s]\u001b[A\u001b[A\n",
      "\n",
      "  4%|▍         | 65536/1648877 [00:01<00:37, 42712.25it/s]\u001b[A\u001b[A\n",
      "\n",
      "  4%|▍         | 73728/1648877 [00:02<00:39, 40048.29it/s]\u001b[A\u001b[A\n",
      "\n",
      "  5%|▍         | 81920/1648877 [00:02<00:40, 38974.13it/s]\u001b[A\u001b[A\n",
      "\n",
      "  5%|▌         | 90112/1648877 [00:02<00:40, 38360.10it/s]\u001b[A\u001b[A\n",
      "\n",
      "  6%|▌         | 98304/1648877 [00:02<00:41, 37501.95it/s]\u001b[A\u001b[A\n",
      "\n",
      "  6%|▋         | 106496/1648877 [00:02<00:41, 37038.73it/s]\u001b[A\u001b[A\n",
      "\n",
      "  7%|▋         | 114688/1648877 [00:03<00:41, 37285.94it/s]\u001b[A\u001b[A\n",
      "\n",
      "  7%|▋         | 122880/1648877 [00:03<00:42, 36148.23it/s]\u001b[A\u001b[A\n",
      "\n",
      "  8%|▊         | 131072/1648877 [00:03<00:43, 34590.53it/s]\u001b[A\u001b[A\n",
      "\n",
      "  8%|▊         | 139264/1648877 [00:03<00:40, 37573.80it/s]\u001b[A\u001b[A\n",
      "\n",
      "  9%|▉         | 147456/1648877 [00:04<00:40, 36784.45it/s]\u001b[A\u001b[A\n",
      "\n",
      "  9%|▉         | 155648/1648877 [00:04<00:40, 37110.74it/s]\u001b[A\u001b[A\n",
      "\n",
      " 10%|▉         | 163840/1648877 [00:04<00:40, 37048.32it/s]\u001b[A\u001b[A\n",
      "\n",
      " 10%|█         | 172032/1648877 [00:04<00:40, 36327.98it/s]\u001b[A\u001b[A\n",
      "\n",
      " 11%|█         | 180224/1648877 [00:04<00:39, 36720.56it/s]\u001b[A\u001b[A\n",
      "\n",
      " 11%|█▏        | 188416/1648877 [00:05<00:40, 35697.63it/s]\u001b[A\u001b[A\n",
      "\n",
      " 12%|█▏        | 196608/1648877 [00:05<00:39, 36631.80it/s]\u001b[A\u001b[A\n",
      "\n",
      " 12%|█▏        | 204800/1648877 [00:05<00:40, 35481.66it/s]\u001b[A\u001b[A\n",
      "\n",
      " 13%|█▎        | 212992/1648877 [00:05<00:38, 37258.93it/s]\u001b[A\u001b[A\n",
      "\n",
      " 13%|█▎        | 221184/1648877 [00:06<00:39, 36011.03it/s]\u001b[A\u001b[A\n",
      "\n",
      " 14%|█▍        | 229376/1648877 [00:06<00:40, 34896.00it/s]\u001b[A\u001b[A\n",
      "\n",
      " 14%|█▍        | 237568/1648877 [00:06<00:41, 33788.10it/s]\u001b[A\u001b[A\n",
      "\n",
      " 15%|█▍        | 245760/1648877 [00:06<00:41, 33678.46it/s]\u001b[A\u001b[A\n",
      "\n",
      " 15%|█▌        | 253952/1648877 [00:07<00:41, 33438.88it/s]\u001b[A\u001b[A\n",
      "\n",
      " 16%|█▌        | 262144/1648877 [00:07<00:41, 33252.71it/s]\u001b[A\u001b[A\n",
      "\n",
      " 16%|█▋        | 270336/1648877 [00:07<00:40, 34264.60it/s]\u001b[A\u001b[A\n",
      "\n",
      " 17%|█▋        | 278528/1648877 [00:07<00:40, 34257.62it/s]\u001b[A\u001b[A\n",
      "\n",
      " 17%|█▋        | 286720/1648877 [00:08<00:39, 34126.14it/s]\u001b[A\u001b[A\n",
      "\n",
      " 18%|█▊        | 294912/1648877 [00:08<00:39, 34165.32it/s]\u001b[A\u001b[A\n",
      "\n",
      " 18%|█▊        | 303104/1648877 [00:08<00:39, 34074.44it/s]\u001b[A\u001b[A\n",
      "\n",
      " 19%|█▉        | 311296/1648877 [00:08<00:47, 28113.27it/s]\u001b[A\u001b[A\n",
      "\n",
      " 20%|█▉        | 327680/1648877 [00:09<00:45, 29172.12it/s]\u001b[A\u001b[A\n",
      "\n",
      " 21%|██        | 344064/1648877 [00:09<00:41, 31750.38it/s]\u001b[A\u001b[A\n",
      "\n",
      " 21%|██▏       | 352256/1648877 [00:10<00:33, 38683.89it/s]\u001b[A\u001b[A\n",
      "\n",
      " 22%|██▏       | 360448/1648877 [00:10<00:42, 30171.43it/s]\u001b[A\u001b[A\n",
      "\n",
      " 23%|██▎       | 376832/1648877 [00:10<00:37, 34163.17it/s]\u001b[A\u001b[A\n",
      "\n",
      " 23%|██▎       | 385024/1648877 [00:11<00:43, 29029.95it/s]\u001b[A\u001b[A\n",
      "\n",
      " 24%|██▍       | 401408/1648877 [00:11<00:41, 29795.68it/s]\u001b[A\u001b[A\n",
      "\n",
      " 25%|██▌       | 417792/1648877 [00:12<00:37, 32398.04it/s]\u001b[A\u001b[A\n",
      "\n",
      " 26%|██▌       | 425984/1648877 [00:12<00:32, 38015.06it/s]\u001b[A\u001b[A\n",
      "\n",
      " 26%|██▋       | 434176/1648877 [00:12<00:39, 30795.24it/s]\u001b[A\u001b[A\n",
      "\n",
      " 27%|██▋       | 450560/1648877 [00:12<00:34, 34642.48it/s]\u001b[A\u001b[A\n",
      "\n",
      " 28%|██▊       | 458752/1648877 [00:13<00:36, 32691.78it/s]\u001b[A\u001b[A\n",
      "\n",
      " 28%|██▊       | 466944/1648877 [00:13<00:37, 31832.55it/s]\u001b[A\u001b[A\n",
      "\n",
      " 29%|██▉       | 475136/1648877 [00:13<00:33, 35520.70it/s]\u001b[A\u001b[A\n",
      "\n",
      " 29%|██▉       | 483328/1648877 [00:13<00:39, 29819.22it/s]\u001b[A\u001b[A\n",
      "\n",
      " 30%|███       | 499712/1648877 [00:14<00:37, 30439.44it/s]\u001b[A\u001b[A\n",
      "\n",
      " 31%|███▏      | 516096/1648877 [00:14<00:32, 34801.65it/s]\u001b[A\u001b[A\n",
      "\n",
      " 32%|███▏      | 524288/1648877 [00:15<00:39, 28681.93it/s]\u001b[A\u001b[A\n",
      "\n",
      " 33%|███▎      | 540672/1648877 [00:15<00:35, 31283.86it/s]\u001b[A\u001b[A\n",
      "\n",
      " 33%|███▎      | 548864/1648877 [00:15<00:30, 36316.51it/s]\u001b[A\u001b[A\n",
      "\n",
      " 34%|███▍      | 557056/1648877 [00:16<00:35, 30479.45it/s]\u001b[A\u001b[A\n",
      "\n",
      " 34%|███▍      | 565248/1648877 [00:16<00:29, 37041.64it/s]\u001b[A\u001b[A\n",
      "9920512it [05:19, 34359.70it/s]                             \u001b[A\n",
      "\n",
      " 35%|███▍      | 573440/1648877 [00:16<00:36, 29817.68it/s]\u001b[A\u001b[A\n",
      "\n",
      " 36%|███▌      | 589824/1648877 [00:17<00:32, 32243.24it/s]\u001b[A\u001b[A\n",
      "\n",
      " 36%|███▋      | 598016/1648877 [00:17<00:28, 36796.65it/s]\u001b[A\u001b[A\n",
      "\n",
      " 37%|███▋      | 606208/1648877 [00:17<00:33, 30988.22it/s]\u001b[A\u001b[A\n",
      "\n",
      " 37%|███▋      | 614400/1648877 [00:17<00:27, 37137.00it/s]\u001b[A\u001b[A\n",
      "\n",
      " 38%|███▊      | 622592/1648877 [00:18<00:34, 30093.56it/s]\u001b[A\u001b[A\n",
      "\n",
      " 39%|███▉      | 638976/1648877 [00:18<00:29, 34140.56it/s]\u001b[A\u001b[A\n",
      "\n",
      " 39%|███▉      | 647168/1648877 [00:18<00:33, 30354.27it/s]\u001b[A\u001b[A\n",
      "\n",
      " 40%|███▉      | 655360/1648877 [00:18<00:28, 35375.34it/s]\u001b[A\u001b[A\n",
      "\n",
      " 40%|████      | 663552/1648877 [00:19<00:30, 31884.91it/s]\u001b[A\u001b[A\n",
      "\n",
      " 41%|████      | 671744/1648877 [00:19<00:27, 34945.09it/s]\u001b[A\u001b[A\n",
      "\n",
      " 41%|████      | 679936/1648877 [00:19<00:34, 28018.26it/s]\u001b[A\u001b[A\n",
      "\n",
      " 42%|████▏     | 696320/1648877 [00:20<00:32, 29037.87it/s]\u001b[A\u001b[A\n",
      "\n",
      " 43%|████▎     | 712704/1648877 [00:20<00:31, 29867.93it/s]\u001b[A\u001b[A\n",
      "\n",
      " 44%|████▍     | 729088/1648877 [00:21<00:30, 30415.30it/s]\u001b[A\u001b[A\n",
      "\n",
      " 45%|████▌     | 745472/1648877 [00:21<00:30, 29226.72it/s]\u001b[A\u001b[A\n",
      "\n",
      " 46%|████▌     | 761856/1648877 [00:22<00:24, 36466.59it/s]\u001b[A\u001b[A\n",
      "\n",
      " 47%|████▋     | 770048/1648877 [00:22<00:30, 28799.68it/s]\u001b[A\u001b[A\n",
      "\n",
      " 48%|████▊     | 786432/1648877 [00:23<00:27, 31439.66it/s]\u001b[A\u001b[A\n",
      "\n",
      " 49%|████▊     | 802816/1648877 [00:23<00:26, 31618.76it/s]\u001b[A\u001b[A\n",
      "\n",
      " 50%|████▉     | 819200/1648877 [00:23<00:24, 33736.68it/s]\u001b[A\u001b[A\n",
      "\n",
      " 50%|█████     | 827392/1648877 [00:24<00:21, 38930.35it/s]\u001b[A\u001b[A\n",
      "\n",
      " 51%|█████     | 835584/1648877 [00:24<00:25, 31433.44it/s]\u001b[A\u001b[A\n",
      "\n",
      " 51%|█████     | 843776/1648877 [00:24<00:21, 38184.01it/s]\u001b[A\u001b[A\n",
      "\n",
      " 52%|█████▏    | 851968/1648877 [00:24<00:26, 30158.01it/s]\u001b[A\u001b[A\n",
      "\n",
      " 53%|█████▎    | 868352/1648877 [00:25<00:25, 30692.58it/s]\u001b[A\u001b[A\n",
      "\n",
      " 54%|█████▎    | 884736/1648877 [00:25<00:23, 32953.58it/s]\u001b[A\u001b[A\n",
      "\n",
      " 54%|█████▍    | 892928/1648877 [00:26<00:19, 38489.80it/s]\u001b[A\u001b[A\n",
      "\n",
      " 55%|█████▍    | 901120/1648877 [00:26<00:24, 31131.33it/s]\u001b[A\u001b[A\n",
      "\n",
      " 56%|█████▌    | 917504/1648877 [00:26<00:23, 31387.60it/s]\u001b[A\u001b[A\n",
      "\n",
      " 57%|█████▋    | 933888/1648877 [00:27<00:19, 36176.49it/s]\u001b[A\u001b[A\n",
      "\n",
      " 57%|█████▋    | 942080/1648877 [00:27<00:24, 28648.26it/s]\u001b[A\u001b[A\n",
      "\n",
      " 58%|█████▊    | 958464/1648877 [00:28<00:22, 31308.11it/s]\u001b[A\u001b[A\n",
      "\n",
      " 59%|█████▊    | 966656/1648877 [00:28<00:18, 36979.10it/s]\u001b[A\u001b[A\n",
      "\n",
      " 59%|█████▉    | 974848/1648877 [00:28<00:22, 30292.22it/s]\u001b[A\u001b[A\n",
      "\n",
      " 60%|██████    | 991232/1648877 [00:29<00:21, 30793.66it/s]\u001b[A\u001b[A\n",
      "\n",
      " 61%|██████    | 1007616/1648877 [00:29<00:19, 33056.32it/s]\u001b[A\u001b[A\n",
      "\n",
      " 62%|██████▏   | 1015808/1648877 [00:29<00:16, 38409.66it/s]\u001b[A\u001b[A\n",
      "\n",
      " 62%|██████▏   | 1024000/1648877 [00:29<00:20, 30966.63it/s]\u001b[A\u001b[A\n",
      "\n",
      " 63%|██████▎   | 1040384/1648877 [00:30<00:19, 31369.06it/s]\u001b[A\u001b[A\n",
      "\n",
      " 64%|██████▍   | 1056768/1648877 [00:30<00:18, 31568.39it/s]\u001b[A\u001b[A\n",
      "\n",
      " 65%|██████▌   | 1073152/1648877 [00:31<00:18, 31704.86it/s]\u001b[A\u001b[A\n",
      "\n",
      " 66%|██████▌   | 1089536/1648877 [00:32<00:17, 31772.74it/s]\u001b[A\u001b[A\n",
      "\n",
      " 67%|██████▋   | 1105920/1648877 [00:32<00:17, 31844.63it/s]\u001b[A\u001b[A\n",
      "\n",
      " 68%|██████▊   | 1122304/1648877 [00:33<00:16, 31860.77it/s]\u001b[A\u001b[A\n",
      "\n",
      " 69%|██████▉   | 1138688/1648877 [00:33<00:16, 31776.67it/s]\u001b[A\u001b[A\n",
      "\n",
      " 70%|███████   | 1155072/1648877 [00:34<00:15, 31995.59it/s]\u001b[A\u001b[A\n",
      "\n",
      " 71%|███████   | 1171456/1648877 [00:34<00:13, 34175.12it/s]\u001b[A\u001b[A\n",
      "\n",
      " 72%|███████▏  | 1179648/1648877 [00:34<00:12, 37405.60it/s]\u001b[A\u001b[A\n",
      "\n",
      " 72%|███████▏  | 1187840/1648877 [00:34<00:12, 35806.84it/s]\u001b[A\u001b[A\n",
      "\n",
      " 73%|███████▎  | 1196032/1648877 [00:35<00:13, 34354.92it/s]\u001b[A\u001b[A\n",
      "\n",
      " 73%|███████▎  | 1204224/1648877 [00:35<00:16, 27115.58it/s]\u001b[A\u001b[A\n",
      "\n",
      " 74%|███████▍  | 1220608/1648877 [00:36<00:15, 28444.26it/s]\u001b[A\u001b[A\n",
      "\n",
      " 75%|███████▌  | 1236992/1648877 [00:36<00:13, 29461.02it/s]\u001b[A\u001b[A\n",
      "\n",
      " 76%|███████▌  | 1253376/1648877 [00:37<00:13, 30110.44it/s]\u001b[A\u001b[A\n",
      "\n",
      " 77%|███████▋  | 1269760/1648877 [00:37<00:12, 30630.88it/s]\u001b[A\u001b[A\n",
      "\n",
      " 78%|███████▊  | 1286144/1648877 [00:38<00:11, 30972.89it/s]\u001b[A\u001b[A\n",
      "\n",
      " 79%|███████▉  | 1302528/1648877 [00:38<00:11, 31444.30it/s]\u001b[A\u001b[A\n",
      "\n",
      " 80%|███████▉  | 1318912/1648877 [00:39<00:10, 31544.42it/s]\u001b[A\u001b[A\n",
      "\n",
      " 81%|████████  | 1335296/1648877 [00:39<00:09, 31679.36it/s]\u001b[A\u001b[A\n",
      "\n",
      " 82%|████████▏ | 1351680/1648877 [00:40<00:09, 31779.02it/s]\u001b[A\u001b[A\n",
      "\n",
      " 83%|████████▎ | 1368064/1648877 [00:40<00:08, 31867.02it/s]\u001b[A\u001b[A\n",
      "\n",
      " 84%|████████▍ | 1384448/1648877 [00:41<00:08, 31882.54it/s]\u001b[A\u001b[A\n",
      "\n",
      " 85%|████████▍ | 1400832/1648877 [00:41<00:07, 31914.66it/s]\u001b[A\u001b[A\n",
      "\n",
      " 86%|████████▌ | 1417216/1648877 [00:42<00:07, 31990.62it/s]\u001b[A\u001b[A\n",
      "\n",
      " 87%|████████▋ | 1433600/1648877 [00:42<00:06, 31790.11it/s]\u001b[A\u001b[A\n",
      "\n",
      " 88%|████████▊ | 1449984/1648877 [00:43<00:05, 35347.19it/s]\u001b[A\u001b[A\n",
      "\n",
      " 88%|████████▊ | 1458176/1648877 [00:43<00:06, 30099.71it/s]\u001b[A\u001b[A\n",
      "\n",
      " 89%|████████▉ | 1466368/1648877 [00:43<00:05, 35824.74it/s]\u001b[A\u001b[A\n",
      "\n",
      " 89%|████████▉ | 1474560/1648877 [00:43<00:05, 34304.11it/s]\u001b[A\u001b[A\n",
      "\n",
      " 90%|████████▉ | 1482752/1648877 [00:44<00:06, 24691.49it/s]\u001b[A\u001b[A\n",
      "\n",
      " 91%|█████████ | 1499136/1648877 [00:44<00:04, 30979.89it/s]\u001b[A\u001b[A\n",
      "\n",
      " 91%|█████████▏| 1507328/1648877 [00:44<00:04, 31556.01it/s]\u001b[A\u001b[A\n",
      "\n",
      " 92%|█████████▏| 1515520/1648877 [00:45<00:05, 25907.54it/s]\u001b[A\u001b[A\n",
      "\n",
      " 93%|█████████▎| 1531904/1648877 [00:45<00:04, 28952.95it/s]\u001b[A\u001b[A\n",
      "\n",
      " 94%|█████████▍| 1548288/1648877 [00:46<00:03, 30370.42it/s]\u001b[A\u001b[A\n",
      "\n",
      " 95%|█████████▍| 1564672/1648877 [00:46<00:02, 29993.77it/s]\u001b[A\u001b[A\n",
      "\n",
      " 96%|█████████▌| 1581056/1648877 [00:47<00:02, 33460.70it/s]\u001b[A\u001b[A\n",
      "\n",
      " 97%|█████████▋| 1597440/1648877 [00:47<00:01, 34236.03it/s]\u001b[A\u001b[A\n",
      "\n",
      " 97%|█████████▋| 1605632/1648877 [00:47<00:01, 38413.67it/s]\u001b[A\u001b[A\n",
      "\n",
      " 98%|█████████▊| 1613824/1648877 [00:48<00:01, 29076.49it/s]\u001b[A\u001b[A\n",
      "\n",
      " 99%|█████████▉| 1630208/1648877 [00:48<00:00, 29846.74it/s]\u001b[A\u001b[A\n",
      "\n",
      "100%|█████████▉| 1646592/1648877 [00:49<00:00, 30398.96it/s]\u001b[A\u001b[A\n",
      "\n",
      "1654784it [00:49, 35495.40it/s]                             \u001b[A\u001b[A\n",
      "\n",
      "\n",
      "0it [00:00, ?it/s]\u001b[A\u001b[A\u001b[AExtracting ./.pytorch/MNIST_data/MNIST\\raw\\t10k-images-idx3-ubyte.gz to ./.pytorch/MNIST_data/MNIST\\raw\n",
      "Downloading http://yann.lecun.com/exdb/mnist/t10k-labels-idx1-ubyte.gz to ./.pytorch/MNIST_data/MNIST\\raw\\t10k-labels-idx1-ubyte.gz\n",
      "\n",
      "\n",
      "\n",
      "8192it [00:00, 27573.22it/s]            \n",
      "C:\\Users\\thear\\Anaconda3\\lib\\site-packages\\torchvision\\datasets\\mnist.py:480: UserWarning: The given NumPy array is not writeable, and PyTorch does not support non-writeable tensors. This means you can write to the underlying (supposedly non-writeable) NumPy array using the tensor. You may want to copy the array to protect its data or make it writeable before converting it to a tensor. This type of warning will be suppressed for the rest of this program. (Triggered internally at  ..\\torch\\csrc\\utils\\tensor_numpy.cpp:141.)\n",
      "  return torch.from_numpy(parsed.astype(m[2], copy=False)).view(*s)\n",
      "Extracting ./.pytorch/MNIST_data/MNIST\\raw\\t10k-labels-idx1-ubyte.gz to ./.pytorch/MNIST_data/MNIST\\raw\n",
      "Processing...\n",
      "Done!\n"
     ]
    }
   ],
   "source": [
    "### Run this cell\n",
    "\n",
    "from torchvision import datasets, transforms\n",
    "\n",
    "# Define a transform to normalize the data\n",
    "transform = transforms.Compose([transforms.ToTensor(),\n",
    "                              transforms.Normalize((0.5,), (0.5,)),\n",
    "                              ])\n",
    "\n",
    "# Download and load the training data\n",
    "trainset = datasets.MNIST('./.pytorch/MNIST_data/', download=True, train=True, transform=transform)\n",
    "trainloader = torch.utils.data.DataLoader(trainset, batch_size=64, shuffle=True)"
   ]
  },
  {
   "cell_type": "markdown",
   "metadata": {},
   "source": [
    "We have the training data loaded into `trainloader` and we make that an iterator with `iter(trainloader)`. Later, we'll use this to loop through the dataset for training, like\n",
    "\n",
    "```python\n",
    "for image, label in trainloader:\n",
    "    ## do things with images and labels\n",
    "```\n",
    "\n",
    "You'll notice I created the `trainloader` with a batch size of 64, and `shuffle=True`. The batch size is the number of images we get in one iteration from the data loader and pass through our network, often called a *batch*. And `shuffle=True` tells it to shuffle the dataset every time we start going through the data loader again. But here I'm just grabbing the first batch so we can check out the data. We can see below that `images` is just a tensor with size `(64, 1, 28, 28)`. So, 64 images per batch, 1 color channel, and 28x28 images."
   ]
  },
  {
   "cell_type": "code",
   "execution_count": 5,
   "metadata": {},
   "outputs": [
    {
     "output_type": "stream",
     "name": "stdout",
     "text": [
      "<class 'torch.Tensor'>\ntorch.Size([64, 1, 28, 28])\ntorch.Size([64])\n"
     ]
    }
   ],
   "source": [
    "dataiter = iter(trainloader)\n",
    "images, labels = dataiter.next()\n",
    "print(type(images))\n",
    "print(images.shape)\n",
    "print(labels.shape)"
   ]
  },
  {
   "cell_type": "markdown",
   "metadata": {},
   "source": [
    "This is what one of the images looks like. "
   ]
  },
  {
   "cell_type": "code",
   "execution_count": 6,
   "metadata": {},
   "outputs": [
    {
     "output_type": "display_data",
     "data": {
      "text/plain": "<Figure size 432x288 with 1 Axes>",
      "image/png": "[encoded data removed]"
     },
     "metadata": {
      "image/png": {
       "width": 251,
       "height": 248
      },
      "needs_background": "light"
     }
    }
   ],
   "source": [
    "plt.imshow(images[1].numpy().squeeze(), cmap='Greys_r');"
   ]
  },
  {
   "cell_type": "markdown",
   "metadata": {},
   "source": [
    "First, let's try to build a simple network for this dataset using weight matrices and matrix multiplications. Then, we'll see how to do it using PyTorch's `nn` module which provides a much more convenient and powerful method for defining network architectures.\n",
    "\n",
    "The networks you've seen so far are called *fully-connected* or *dense* networks. Each unit in one layer is connected to each unit in the next layer. In fully-connected networks, the input to each layer must be a one-dimensional vector (which can be stacked into a 2D tensor as a batch of multiple examples). However, our images are 28x28 2D tensors, so we need to convert them into 1D vectors. Thinking about sizes, we need to convert the batch of images with shape `(64, 1, 28, 28)` to a have a shape of `(64, 784)`, 784 is 28 times 28. This is typically called *flattening*, we flattened the 2D images into 1D vectors.\n",
    "\n",
    "Previously you built a network with one output unit. Here we need 10 output units, one for each digit. We want our network to predict the digit shown in an image, so what we'll do is calculate probabilities that the image is of any one digit or class. This ends up being a discrete probability distribution over the classes (digits) that tells us the most likely class for the image. That means we need 10 output units for the 10 classes (digits). We'll see how to convert the network output into a probability distribution next.\n",
    "\n",
    "> **Exercise:** Flatten the batch of images `images`. Then build a multi-layer network with 784 input units, 256 hidden units, and 10 output units using random tensors for the weights and biases. For now, use a sigmoid activation for the hidden layer. Leave the output layer without an activation, we'll add one that gives us a probability distribution next."
   ]
  },
  {
   "cell_type": "code",
   "execution_count": 10,
   "metadata": {
    "collapsed": true
   },
   "outputs": [],
   "source": [
    "## Your solution   \n",
    "\n",
    "## Activation function\n",
    "def activation(x):\n",
    "    \"\"\" Sigmoid activation function \n",
    "        Arguments\n",
    "        ---------\n",
    "        x: torch.Tensor\n",
    "    \"\"\"\n",
    "    return 1/(1+torch.exp(-x))\n",
    "\n",
    "### Neural network\n",
    "def multi_Layer_NW(inputUnits, hiddenUnits, outputUnits):\n",
    "    torch.manual_seed(7) # Set the random seed so things are predictable\n",
    "\n",
    "    # Define the size of each layer in our network\n",
    "    n_input = inputUnits     # Number of input units, must match number of input features\n",
    "    n_hidden = hiddenUnits   # Number of hidden units \n",
    "    n_output = outputUnits   # Number of output units\n",
    "\n",
    "    # Weights for inputs to hidden layer\n",
    "    W1 = torch.randn(n_input, n_hidden)\n",
    "    # Weights for hidden layer to output layer\n",
    "    W2 = torch.randn(n_hidden, n_output)\n",
    "\n",
    "    # and bias terms for hidden and output layers\n",
    "    B1 = torch.randn((1, n_hidden))\n",
    "    B2 = torch.randn((1, n_output))\n",
    "\n",
    "    return W1,W2,B1,B2\n",
    "\n",
    "def calc_output(features,W1,W2,B1,B2):\n",
    "    h = activation(torch.matmul(features,W1).add_(B1))\n",
    "    output = activation(torch.matmul(h,W2).add_(B2))\n",
    "    return output\n",
    "\n",
    "# Features are flattened batch input\n",
    "features = torch.flatten(images,start_dim=1)\n",
    "W1,W2,B1,B2 = multi_Layer_NW(features.shape[1],256,10)\n",
    "\n",
    "out = calc_output(features,W1,W2,B1,B2) # output of your network, should have shape (64,10)"
   ]
  },
  {
   "cell_type": "markdown",
   "metadata": {},
   "source": [
    "Now we have 10 outputs for our network. We want to pass in an image to our network and get out a probability distribution over the classes that tells us the likely class(es) the image belongs to. Something that looks like this:\n",
    "<img src='assets/image_distribution.png' width=500px>\n",
    "\n",
    "Here we see that the probability for each class is roughly the same. This is representing an untrained network, it hasn't seen any data yet so it just returns a uniform distribution with equal probabilities for each class.\n",
    "\n",
    "To calculate this probability distribution, we often use the [**softmax** function](https://en.wikipedia.org/wiki/Softmax_function). Mathematically this looks like\n",
    "\n",
    "$$\n",
    "\\Large \\sigma(x_i) = \\cfrac{e^{x_i}}{\\sum_k^K{e^{x_k}}}\n",
    "$$\n",
    "\n",
    "What this does is squish each input $x_i$ between 0 and 1 and normalizes the values to give you a proper probability distribution where the probabilites sum up to one.\n",
    "\n",
    "> **Exercise:** Implement a function `softmax` that performs the softmax calculation and returns probability distributions for each example in the batch. Note that you'll need to pay attention to the shapes when doing this. If you have a tensor `a` with shape `(64, 10)` and a tensor `b` with shape `(64,)`, doing `a/b` will give you an error because PyTorch will try to do the division across the columns (called broadcasting) but you'll get a size mismatch. The way to think about this is for each of the 64 examples, you only want to divide by one value, the sum in the denominator. So you need `b` to have a shape of `(64, 1)`. This way PyTorch will divide the 10 values in each row of `a` by the one value in each row of `b`. Pay attention to how you take the sum as well. You'll need to define the `dim` keyword in `torch.sum`. Setting `dim=0` takes the sum across the rows while `dim=1` takes the sum across the columns."
   ]
  },
  {
   "cell_type": "code",
   "execution_count": 13,
   "metadata": {
    "collapsed": true
   },
   "outputs": [
    {
     "output_type": "stream",
     "name": "stdout",
     "text": [
      "torch.Size([64, 10])\ntensor([0.0136, 0.0151, 0.0155, 0.0157, 0.0153, 0.0164, 0.0166, 0.0147, 0.0151,\n        0.0176, 0.0166, 0.0178, 0.0164, 0.0153, 0.0138, 0.0160, 0.0140, 0.0152,\n        0.0166, 0.0154, 0.0177, 0.0133, 0.0175, 0.0153, 0.0156, 0.0160, 0.0150,\n        0.0165, 0.0152, 0.0183, 0.0151, 0.0174, 0.0134, 0.0150, 0.0159, 0.0177,\n        0.0149, 0.0151, 0.0136, 0.0142, 0.0149, 0.0148, 0.0154, 0.0141, 0.0163,\n        0.0146, 0.0159, 0.0148, 0.0168, 0.0146, 0.0145, 0.0164, 0.0162, 0.0152,\n        0.0170, 0.0157, 0.0143, 0.0163, 0.0160, 0.0137, 0.0158, 0.0198, 0.0161,\n        0.0154])\n"
     ]
    }
   ],
   "source": [
    "def softmax(x):\n",
    "    ## TODO: Implement the softmax function here\n",
    "    return torch.exp(x) / torch.sum(torch.exp(x))\n",
    "\n",
    "# Here, out should be the output of the network in the previous excercise with shape (64,10)\n",
    "probabilities = softmax(out)\n",
    "\n",
    "# Does it have the right shape? Should be (64, 10)\n",
    "print(probabilities.shape)\n",
    "# Does it sum to 1?\n",
    "print(probabilities.sum(dim=1))"
   ]
  },
  {
   "cell_type": "markdown",
   "metadata": {},
   "source": [
    "## Building networks with PyTorch\n",
    "\n",
    "PyTorch provides a module `nn` that makes building networks much simpler. Here I'll show you how to build the same one as above with 784 inputs, 256 hidden units, 10 output units and a softmax output."
   ]
  },
  {
   "cell_type": "code",
   "execution_count": 14,
   "metadata": {
    "collapsed": true
   },
   "outputs": [],
   "source": [
    "from torch import nn"
   ]
  },
  {
   "cell_type": "code",
   "execution_count": 15,
   "metadata": {
    "collapsed": true
   },
   "outputs": [],
   "source": [
    "class Network(nn.Module):\n",
    "    def __init__(self):\n",
    "        super().__init__()\n",
    "        \n",
    "        # Inputs to hidden layer linear transformation\n",
    "        self.hidden = nn.Linear(784, 256)\n",
    "        # Output layer, 10 units - one for each digit\n",
    "        self.output = nn.Linear(256, 10)\n",
    "        \n",
    "        # Define sigmoid activation and softmax output \n",
    "        self.sigmoid = nn.Sigmoid()\n",
    "        self.softmax = nn.Softmax(dim=1)\n",
    "        \n",
    "    def forward(self, x):\n",
    "        # Pass the input tensor through each of our operations\n",
    "        x = self.hidden(x)\n",
    "        x = self.sigmoid(x)\n",
    "        x = self.output(x)\n",
    "        x = self.softmax(x)\n",
    "        \n",
    "        return x"
   ]
  },
  {
   "cell_type": "markdown",
   "metadata": {},
   "source": [
    "Let's go through this bit by bit.\n",
    "\n",
    "```python\n",
    "class Network(nn.Module):\n",
    "```\n",
    "\n",
    "Here we're inheriting from `nn.Module`. Combined with `super().__init__()` this creates a class that tracks the architecture and provides a lot of useful methods and attributes. It is mandatory to inherit from `nn.Module` when you're creating a class for your network. The name of the class itself can be anything.\n",
    "\n",
    "```python\n",
    "self.hidden = nn.Linear(784, 256)\n",
    "```\n",
    "\n",
    "This line creates a module for a linear transformation, $x\\mathbf{W} + b$, with 784 inputs and 256 outputs and assigns it to `self.hidden`. The module automatically creates the weight and bias tensors which we'll use in the `forward` method. You can access the weight and bias tensors once the network (`net`) is created with `net.hidden.weight` and `net.hidden.bias`.\n",
    "\n",
    "```python\n",
    "self.output = nn.Linear(256, 10)\n",
    "```\n",
    "\n",
    "Similarly, this creates another linear transformation with 256 inputs and 10 outputs.\n",
    "\n",
    "```python\n",
    "self.sigmoid = nn.Sigmoid()\n",
    "self.softmax = nn.Softmax(dim=1)\n",
    "```\n",
    "\n",
    "Here I defined operations for the sigmoid activation and softmax output. Setting `dim=1` in `nn.Softmax(dim=1)` calculates softmax across the columns.\n",
    "\n",
    "```python\n",
    "def forward(self, x):\n",
    "```\n",
    "\n",
    "PyTorch networks created with `nn.Module` must have a `forward` method defined. It takes in a tensor `x` and passes it through the operations you defined in the `__init__` method.\n",
    "\n",
    "```python\n",
    "x = self.hidden(x)\n",
    "x = self.sigmoid(x)\n",
    "x = self.output(x)\n",
    "x = self.softmax(x)\n",
    "```\n",
    "\n",
    "Here the input tensor `x` is passed through each operation and reassigned to `x`. We can see that the input tensor goes through the hidden layer, then a sigmoid function, then the output layer, and finally the softmax function. It doesn't matter what you name the variables here, as long as the inputs and outputs of the operations match the network architecture you want to build. The order in which you define things in the `__init__` method doesn't matter, but you'll need to sequence the operations correctly in the `forward` method.\n",
    "\n",
    "Now we can create a `Network` object."
   ]
  },
  {
   "cell_type": "code",
   "execution_count": 16,
   "metadata": {
    "collapsed": true
   },
   "outputs": [
    {
     "output_type": "execute_result",
     "data": {
      "text/plain": [
       "Network(\n",
       "  (hidden): Linear(in_features=784, out_features=256, bias=True)\n",
       "  (output): Linear(in_features=256, out_features=10, bias=True)\n",
       "  (sigmoid): Sigmoid()\n",
       "  (softmax): Softmax(dim=1)\n",
       ")"
      ]
     },
     "metadata": {},
     "execution_count": 16
    }
   ],
   "source": [
    "# Create the network and look at its text representation\n",
    "model = Network()\n",
    "model"
   ]
  },
  {
   "cell_type": "markdown",
   "metadata": {},
   "source": [
    "You can define the network somewhat more concisely and clearly using the `torch.nn.functional` module. This is the most common way you'll see networks defined as many operations are simple element-wise functions. We normally import this module as `F`, `import torch.nn.functional as F`."
   ]
  },
  {
   "cell_type": "code",
   "execution_count": 59,
   "metadata": {
    "collapsed": true
   },
   "outputs": [],
   "source": [
    "import torch.nn.functional as F\n",
    "\n",
    "class Network(nn.Module):\n",
    "    def __init__(self):\n",
    "        super().__init__()\n",
    "        # Inputs to hidden layer linear transformation\n",
    "        self.hidden = nn.Linear(784, 256)\n",
    "        # Output layer, 10 units - one for each digit\n",
    "        self.output = nn.Linear(256, 10)\n",
    "        \n",
    "    def forward(self, x):\n",
    "        # Hidden layer with sigmoid activation\n",
    "        x = F.sigmoid(self.hidden(x))\n",
    "        # Output layer with softmax activation\n",
    "        x = F.softmax(self.output(x), dim=1)\n",
    "        \n",
    "        return x"
   ]
  },
  {
   "cell_type": "markdown",
   "metadata": {},
   "source": [
    "### Activation functions\n",
    "\n",
    "So far we've only been looking at the sigmoid activation function, but in general any function can be used as an activation function. The only requirement is that for a network to approximate a non-linear function, the activation functions must be non-linear. Here are a few more examples of common activation functions: Tanh (hyperbolic tangent), and ReLU (rectified linear unit).\n",
    "\n",
    "<img src=\"assets/activation.png\" width=700px>\n",
    "\n",
    "In practice, the ReLU function is used almost exclusively as the activation function for hidden layers."
   ]
  },
  {
   "cell_type": "markdown",
   "metadata": {},
   "source": [
    "### Your Turn to Build a Network\n",
    "\n",
    "<img src=\"assets/mlp_mnist.png\" width=600px>\n",
    "\n",
    "> **Exercise:** Create a network with 784 input units, a hidden layer with 128 units and a ReLU activation, then a hidden layer with 64 units and a ReLU activation, and finally an output layer with a softmax activation as shown above. You can use a ReLU activation with the `nn.ReLU` module or `F.relu` function.\n",
    "\n",
    "It's good practice to name your layers by their type of network, for instance 'fc' to represent a fully-connected layer. As you code your solution, use `fc1`, `fc2`, and `fc3` as your layer names."
   ]
  },
  {
   "cell_type": "code",
   "execution_count": 26,
   "metadata": {
    "collapsed": true,
    "scrolled": true
   },
   "outputs": [],
   "source": [
    "import torch.nn.functional as F\n",
    "\n",
    "class Network2(nn.Module):\n",
    "    def __init__(self):\n",
    "        super().__init__()\n",
    "        # Inputs to hidden layer linear transformation\n",
    "        self.fc1 = nn.Linear(784, 128)\n",
    "        # Output layer, 10 units - one for each digit\n",
    "        self.output = nn.Linear(128, 10)\n",
    "        \n",
    "    def forward(self, x):\n",
    "        # Hidden layer with sigmoid activation\n",
    "        x = F.relu(self.fc1(x))\n",
    "        # Output layer with softmax activation\n",
    "        x = F.softmax(self.output(x), dim=1)\n",
    "        \n",
    "        return x"
   ]
  },
  {
   "source": [
    "### Initializing weights and biases\n",
    "\n",
    "The weights and such are automatically initialized for you, but it's possible to customize how they are initialized. The weights and biases are tensors attached to the layer you defined, you can get them with `model.fc1.weight` for instance."
   ],
   "cell_type": "code",
   "metadata": {},
   "execution_count": null,
   "outputs": []
  },
  {
   "cell_type": "code",
   "execution_count": 29,
   "metadata": {
    "collapsed": true
   },
   "outputs": [
    {
     "output_type": "stream",
     "name": "stdout",
     "text": [
      "Parameter containing:\ntensor([[ 0.0097,  0.0296, -0.0113,  ..., -0.0277, -0.0147,  0.0224],\n        [-0.0072,  0.0272,  0.0217,  ...,  0.0214, -0.0301, -0.0171],\n        [-0.0220,  0.0311,  0.0059,  ...,  0.0030, -0.0053, -0.0252],\n        ...,\n        [-0.0217,  0.0067, -0.0039,  ...,  0.0198,  0.0306, -0.0057],\n        [-0.0064,  0.0039, -0.0194,  ...,  0.0322, -0.0017,  0.0023],\n        [ 0.0350, -0.0310,  0.0085,  ..., -0.0142,  0.0322,  0.0312]],\n       requires_grad=True)\nParameter containing:\ntensor([-1.7553e-02,  3.0973e-02,  5.0422e-03,  2.2563e-02, -1.0080e-02,\n        -1.6343e-02,  2.3792e-02,  2.4730e-02, -3.9857e-03,  2.1657e-03,\n        -2.8466e-02, -8.3228e-03,  2.9120e-02,  2.1403e-02, -2.9136e-02,\n         1.0794e-02,  3.0851e-02, -2.9646e-02, -1.3545e-03,  1.0354e-02,\n        -2.0239e-02, -3.4332e-03,  4.5024e-03,  1.9264e-02, -3.2477e-02,\n         1.6491e-02, -1.0096e-02, -2.6991e-02,  2.9006e-02,  3.0890e-02,\n         1.7626e-02, -2.8384e-02,  1.6996e-02,  3.1699e-02, -3.2983e-02,\n         7.3245e-03, -1.4970e-03,  1.5976e-02,  2.4653e-02, -3.3400e-02,\n        -1.5479e-02, -1.5885e-02,  1.4428e-02, -1.8460e-02,  2.3303e-02,\n        -1.1370e-02, -3.4816e-02,  3.2627e-02, -5.0322e-03,  2.2719e-02,\n        -3.2456e-02, -3.0452e-02,  8.7143e-03, -3.8612e-03,  2.3204e-02,\n        -2.4669e-02,  1.6124e-02,  2.9019e-02,  3.1455e-02,  2.0461e-02,\n         3.4583e-03,  3.2123e-02,  3.0809e-02, -1.2939e-02,  3.1171e-02,\n         2.5635e-02, -7.0687e-03,  9.4935e-03, -5.2699e-03,  2.8339e-02,\n         1.6139e-02,  1.4165e-02,  2.2754e-02,  1.1160e-03, -7.7923e-03,\n        -2.5718e-02, -3.2703e-02,  1.4116e-02,  2.7836e-02,  1.9810e-02,\n        -7.4462e-03, -9.3377e-03,  1.5423e-02, -1.9070e-02, -2.3849e-02,\n         2.6981e-02,  3.0851e-02, -1.5464e-02,  2.0384e-02, -1.9958e-03,\n         8.9962e-03,  2.3228e-03,  1.3813e-02, -3.1365e-02, -5.4546e-04,\n         1.5626e-02,  2.5123e-02, -2.3208e-02, -1.6894e-05,  1.2816e-02,\n        -1.2746e-02, -8.8908e-03, -3.3100e-02, -1.8990e-02, -2.8890e-03,\n        -1.9442e-02,  2.8550e-02,  7.8770e-03, -7.5093e-03, -2.4321e-02,\n         1.1139e-02, -1.7582e-02,  1.1038e-02, -1.7589e-02, -5.9483e-03,\n        -1.3481e-02, -8.0589e-03, -1.1273e-02,  1.9543e-03, -2.6919e-02,\n         5.1038e-03, -7.0150e-04, -4.9353e-03, -2.3850e-02,  1.9425e-02,\n         3.0117e-02, -2.0037e-02, -6.1349e-03], requires_grad=True)\n"
     ]
    }
   ],
   "source": [
    "model = Network2()\n",
    "print(model.fc1.weight)\n",
    "print(model.fc1.bias)"
   ]
  },
  {
   "cell_type": "markdown",
   "metadata": {},
   "source": [
    "For custom initialization, we want to modify these tensors in place. These are actually autograd *Variables*, so we need to get back the actual tensors with `model.fc1.weight.data`. Once we have the tensors, we can fill them with zeros (for biases) or random normal values."
   ]
  },
  {
   "cell_type": "code",
   "execution_count": 30,
   "metadata": {
    "collapsed": true
   },
   "outputs": [
    {
     "output_type": "execute_result",
     "data": {
      "text/plain": [
       "tensor([0., 0., 0., 0., 0., 0., 0., 0., 0., 0., 0., 0., 0., 0., 0., 0., 0., 0., 0., 0., 0., 0., 0., 0.,\n",
       "        0., 0., 0., 0., 0., 0., 0., 0., 0., 0., 0., 0., 0., 0., 0., 0., 0., 0., 0., 0., 0., 0., 0., 0.,\n",
       "        0., 0., 0., 0., 0., 0., 0., 0., 0., 0., 0., 0., 0., 0., 0., 0., 0., 0., 0., 0., 0., 0., 0., 0.,\n",
       "        0., 0., 0., 0., 0., 0., 0., 0., 0., 0., 0., 0., 0., 0., 0., 0., 0., 0., 0., 0., 0., 0., 0., 0.,\n",
       "        0., 0., 0., 0., 0., 0., 0., 0., 0., 0., 0., 0., 0., 0., 0., 0., 0., 0., 0., 0., 0., 0., 0., 0.,\n",
       "        0., 0., 0., 0., 0., 0., 0., 0.])"
      ]
     },
     "metadata": {},
     "execution_count": 30
    }
   ],
   "source": [
    "# Set biases to all zeros\n",
    "model.fc1.bias.data.fill_(0)"
   ]
  },
  {
   "cell_type": "code",
   "execution_count": 31,
   "metadata": {
    "collapsed": true
   },
   "outputs": [
    {
     "output_type": "execute_result",
     "data": {
      "text/plain": [
       "tensor([[-3.1030e-03, -1.5781e-02, -1.4076e-02,  ...,  6.6584e-03,\n",
       "          1.3162e-02, -7.8736e-03],\n",
       "        [-8.7906e-03, -1.0154e-02,  1.3168e-02,  ...,  8.5942e-03,\n",
       "         -1.0407e-02,  6.3138e-03],\n",
       "        [-9.5018e-03, -5.0817e-03,  2.1478e-03,  ...,  6.7684e-03,\n",
       "         -2.0478e-03, -9.1581e-04],\n",
       "        ...,\n",
       "        [ 2.7138e-02, -9.2344e-03, -4.5858e-03,  ..., -2.4882e-04,\n",
       "         -4.5806e-04, -2.0698e-02],\n",
       "        [ 5.7430e-03,  9.8053e-03,  7.7643e-03,  ..., -4.1528e-03,\n",
       "         -1.0269e-02, -1.9136e-02],\n",
       "        [-2.9716e-03, -1.4833e-02, -2.2109e-03,  ...,  2.6059e-05,\n",
       "         -7.2864e-03,  6.9655e-03]])"
      ]
     },
     "metadata": {},
     "execution_count": 31
    }
   ],
   "source": [
    "# sample from random normal with standard dev = 0.01\n",
    "model.fc1.weight.data.normal_(std=0.01)"
   ]
  },
  {
   "cell_type": "markdown",
   "metadata": {},
   "source": [
    "### Forward pass\n",
    "\n",
    "Now that we have a network, let's see what happens when we pass in an image."
   ]
  },
  {
   "cell_type": "code",
   "execution_count": 34,
   "metadata": {
    "collapsed": true
   },
   "outputs": [
    {
     "output_type": "display_data",
     "data": {
      "text/plain": "<Figure size 432x648 with 2 Axes>",
      "image/png": "[encoded data removed]"
     },
     "metadata": {
      "image/png": {
       "width": 424,
       "height": 235
      },
      "needs_background": "light"
     }
    }
   ],
   "source": [
    "# Grab some data \n",
    "dataiter = iter(trainloader)\n",
    "images, labels = dataiter.next()\n",
    "\n",
    "# Resize images into a 1D vector, new shape is (batch size, color channels, image pixels) \n",
    "images.resize_(64, 1, 784)\n",
    "# or images.resize_(images.shape[0], 1, 784) to automatically get batch size\n",
    "\n",
    "# Forward pass through the network\n",
    "img_idx = 0\n",
    "ps = model.forward(images[img_idx,:])\n",
    "\n",
    "img = images[img_idx]\n",
    "helper.view_classify(img.view(1, 28, 28), ps)"
   ]
  },
  {
   "cell_type": "markdown",
   "metadata": {},
   "source": [
    "As you can see above, our network has basically no idea what this digit is. It's because we haven't trained it yet, all the weights are random!\n",
    "\n",
    "### Using `nn.Sequential`\n",
    "\n",
    "PyTorch provides a convenient way to build networks like this where a tensor is passed sequentially through operations, `nn.Sequential` ([documentation](https://pytorch.org/docs/master/nn.html#torch.nn.Sequential)). Using this to build the equivalent network:"
   ]
  },
  {
   "cell_type": "code",
   "execution_count": 35,
   "metadata": {
    "collapsed": true
   },
   "outputs": [
    {
     "output_type": "stream",
     "name": "stdout",
     "text": [
      "Sequential(\n  (0): Linear(in_features=784, out_features=128, bias=True)\n  (1): ReLU()\n  (2): Linear(in_features=128, out_features=64, bias=True)\n  (3): ReLU()\n  (4): Linear(in_features=64, out_features=10, bias=True)\n  (5): Softmax(dim=1)\n)\n"
     ]
    },
    {
     "output_type": "display_data",
     "data": {
      "text/plain": "<Figure size 432x648 with 2 Axes>",
      "image/png": "[encoded data removed]"
     },
     "metadata": {
      "image/png": {
       "width": 424,
       "height": 235
      },
      "needs_background": "light"
     }
    }
   ],
   "source": [
    "# Hyperparameters for our network\n",
    "input_size = 784\n",
    "hidden_sizes = [128, 64]\n",
    "output_size = 10\n",
    "\n",
    "# Build a feed-forward network\n",
    "model = nn.Sequential(nn.Linear(input_size, hidden_sizes[0]),\n",
    "                      nn.ReLU(),\n",
    "                      nn.Linear(hidden_sizes[0], hidden_sizes[1]),\n",
    "                      nn.ReLU(),\n",
    "                      nn.Linear(hidden_sizes[1], output_size),\n",
    "                      nn.Softmax(dim=1))\n",
    "print(model)\n",
    "\n",
    "# Forward pass through the network and display output\n",
    "images, labels = next(iter(trainloader))\n",
    "images.resize_(images.shape[0], 1, 784)\n",
    "ps = model.forward(images[0,:])\n",
    "helper.view_classify(images[0].view(1, 28, 28), ps)"
   ]
  },
  {
   "cell_type": "markdown",
   "metadata": {},
   "source": [
    "Here our model is the same as before: 784 input units, a hidden layer with 128 units, ReLU activation, 64 unit hidden layer, another ReLU, then the output layer with 10 units, and the softmax output.\n",
    "\n",
    "The operations are available by passing in the appropriate index. For example, if you want to get first Linear operation and look at the weights, you'd use `model[0]`."
   ]
  },
  {
   "cell_type": "code",
   "execution_count": 36,
   "metadata": {
    "collapsed": true
   },
   "outputs": [
    {
     "output_type": "stream",
     "name": "stdout",
     "text": [
      "Linear(in_features=784, out_features=128, bias=True)\n"
     ]
    },
    {
     "output_type": "execute_result",
     "data": {
      "text/plain": [
       "Parameter containing:\n",
       "tensor([[ 0.0264,  0.0025, -0.0138,  ...,  0.0002,  0.0253, -0.0066],\n",
       "        [-0.0118,  0.0071,  0.0021,  ...,  0.0142,  0.0221, -0.0220],\n",
       "        [-0.0037, -0.0326, -0.0117,  ...,  0.0295, -0.0126, -0.0354],\n",
       "        ...,\n",
       "        [ 0.0049, -0.0074,  0.0196,  ...,  0.0199, -0.0248, -0.0167],\n",
       "        [-0.0117,  0.0355, -0.0201,  ..., -0.0295, -0.0055, -0.0130],\n",
       "        [ 0.0199, -0.0204, -0.0353,  ...,  0.0017,  0.0334, -0.0308]],\n",
       "       requires_grad=True)"
      ]
     },
     "metadata": {},
     "execution_count": 36
    }
   ],
   "source": [
    "print(model[0])\n",
    "model[0].weight"
   ]
  },
  {
   "cell_type": "markdown",
   "metadata": {},
   "source": [
    "You can also pass in an `OrderedDict` to name the individual layers and operations, instead of using incremental integers. Note that dictionary keys must be unique, so _each operation must have a different name_."
   ]
  },
  {
   "cell_type": "code",
   "execution_count": 37,
   "metadata": {
    "collapsed": true
   },
   "outputs": [
    {
     "output_type": "execute_result",
     "data": {
      "text/plain": [
       "Sequential(\n",
       "  (fc1): Linear(in_features=784, out_features=128, bias=True)\n",
       "  (relu1): ReLU()\n",
       "  (fc2): Linear(in_features=128, out_features=64, bias=True)\n",
       "  (relu2): ReLU()\n",
       "  (output): Linear(in_features=64, out_features=10, bias=True)\n",
       "  (softmax): Softmax(dim=1)\n",
       ")"
      ]
     },
     "metadata": {},
     "execution_count": 37
    }
   ],
   "source": [
    "from collections import OrderedDict\n",
    "model = nn.Sequential(OrderedDict([\n",
    "                      ('fc1', nn.Linear(input_size, hidden_sizes[0])),\n",
    "                      ('relu1', nn.ReLU()),\n",
    "                      ('fc2', nn.Linear(hidden_sizes[0], hidden_sizes[1])),\n",
    "                      ('relu2', nn.ReLU()),\n",
    "                      ('output', nn.Linear(hidden_sizes[1], output_size)),\n",
    "                      ('softmax', nn.Softmax(dim=1))]))\n",
    "model"
   ]
  },
  {
   "cell_type": "markdown",
   "metadata": {},
   "source": [
    "Now you can access layers either by integer or the name"
   ]
  },
  {
   "cell_type": "code",
   "execution_count": 39,
   "metadata": {
    "collapsed": true
   },
   "outputs": [
    {
     "output_type": "stream",
     "name": "stdout",
     "text": [
      "Linear(in_features=784, out_features=128, bias=True)\nLinear(in_features=784, out_features=128, bias=True)\n"
     ]
    }
   ],
   "source": [
    "print(model[0])\n",
    "print(model.fc1)"
   ]
  },
  {
   "cell_type": "markdown",
   "metadata": {},
   "source": [
    "In the next notebook, we'll see how we can train a neural network to accuractly predict the numbers appearing in the MNIST images."
   ]
  }
 ],
 "metadata": {
  "kernelspec": {
   "name": "python383jvsc74a57bd03a62a6d78da73235a31d89a7a665fcca0dfadba5f32a4be87e2fd66a7debec37",
   "display_name": "Python 3.8.3 64-bit ('thear': virtualenv)"
  },
  "language_info": {
   "codemirror_mode": {
    "name": "ipython",
    "version": 3
   },
   "file_extension": ".py",
   "mimetype": "text/x-python",
   "name": "python",
   "nbconvert_exporter": "python",
   "pygments_lexer": "ipython3",
   "version": "3.8.3"
  }
 },
 "nbformat": 4,
 "nbformat_minor": 2
}